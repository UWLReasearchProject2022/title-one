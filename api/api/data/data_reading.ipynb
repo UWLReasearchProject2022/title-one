{
 "cells": [
  {
   "cell_type": "code",
   "execution_count": 174,
   "metadata": {},
   "outputs": [],
   "source": [
    "import pandas as pd"
   ]
  },
  {
   "cell_type": "code",
   "execution_count": 175,
   "metadata": {},
   "outputs": [],
   "source": [
    "data = pd.read_csv(r\"/home/jamesholcombe/git/title-one/api/api/data/video_games.csv\")"
   ]
  },
  {
   "cell_type": "code",
   "execution_count": 176,
   "metadata": {},
   "outputs": [
    {
     "data": {
      "text/plain": [
       "Index(['Title', 'Features.Handheld?', 'Features.Max Players',\n",
       "       'Features.Multiplatform?', 'Features.Online?', 'Metadata.Genres',\n",
       "       'Metadata.Licensed?', 'Metadata.Publishers', 'Metadata.Sequel?',\n",
       "       'Metrics.Review Score', 'Metrics.Sales', 'Metrics.Used Price',\n",
       "       'Release.Console', 'Release.Rating', 'Release.Re-release?',\n",
       "       'Release.Year', 'Length.All PlayStyles.Average',\n",
       "       'Length.All PlayStyles.Leisure', 'Length.All PlayStyles.Median',\n",
       "       'Length.All PlayStyles.Polled', 'Length.All PlayStyles.Rushed',\n",
       "       'Length.Completionists.Average', 'Length.Completionists.Leisure',\n",
       "       'Length.Completionists.Median', 'Length.Completionists.Polled',\n",
       "       'Length.Completionists.Rushed', 'Length.Main + Extras.Average',\n",
       "       'Length.Main + Extras.Leisure', 'Length.Main + Extras.Median',\n",
       "       'Length.Main + Extras.Polled', 'Length.Main + Extras.Rushed',\n",
       "       'Length.Main Story.Average', 'Length.Main Story.Leisure',\n",
       "       'Length.Main Story.Median', 'Length.Main Story.Polled',\n",
       "       'Length.Main Story.Rushed'],\n",
       "      dtype='object')"
      ]
     },
     "execution_count": 176,
     "metadata": {},
     "output_type": "execute_result"
    }
   ],
   "source": [
    "data.columns"
   ]
  },
  {
   "cell_type": "code",
   "execution_count": 177,
   "metadata": {},
   "outputs": [],
   "source": [
    "import requests"
   ]
  },
  {
   "cell_type": "code",
   "execution_count": null,
   "metadata": {},
   "outputs": [],
   "source": []
  },
  {
   "cell_type": "code",
   "execution_count": 178,
   "metadata": {},
   "outputs": [],
   "source": [
    "CLIENT_ID = \"anpiyt29ez53n9ust8zice1jte3nde\"\n",
    "CLIENT_SECRET = \"xrp3toczg1gi11pgun9m3plsujr8mw\"\n",
    "\n",
    "r = requests.post(\"https://id.twitch.tv/oauth2/token\", params={\n",
    "    \"client_id\": CLIENT_ID,\n",
    "    \"client_secret\": CLIENT_SECRET,\n",
    "    \"grant_type\": \"client_credentials\",\n",
    "})\n",
    "\n",
    "\n",
    "TOKEN = r.json()[\"access_token\"]\n",
    "AUTH_HEADER = {\"Authorization\": f\"Bearer {TOKEN}\", \"Client-ID\": CLIENT_ID}"
   ]
  },
  {
   "cell_type": "code",
   "execution_count": 179,
   "metadata": {},
   "outputs": [],
   "source": [
    "query = \"\"\"\n",
    "fields cover.url,\n",
    "first_release_date,\n",
    "genres.name,\n",
    "involved_companies.company.name, \n",
    "summary,\n",
    "name,\n",
    "age_ratings.rating,\n",
    "genres.name,\n",
    "involved_companies.company.logo.url;\n",
    "limit 500; \n",
    "where (age_ratings.rating = (12, 15, 16, 17, 18)) & summary != null;\n",
    "\"\"\"\n",
    "\n",
    "\n",
    "r = requests.post(\"https://api.igdb.com/v4/games\", headers= AUTH_HEADER ,data = query)\n",
    "r.raise_for_status()\n",
    "\n",
    "games = r.json()\n",
    "# df_games = pd.json_normalize(games, max_level=3, meta = [[\"genres\", \"name\"], \"involved_companies\"])\n",
    "# df_games.head()\n",
    "\n",
    "# df_games[\"involved_companies\"] = df_games[\"involved_companies\"].apply(lambda x: x[0][\"company\"] if hasattr(x, \"__getitem__\") else None)\n",
    "# df_games\n",
    "\n",
    "\n",
    "def take_first(data : \"list[dict]\", key : str):\n",
    "    for i,d in enumerate(data):\n",
    "        if not isinstance(d, dict):\n",
    "            del data[i]\n",
    "\n",
    "    \n",
    "        entry= d.get(key, None)\n",
    "        if entry is  None:\n",
    "            del data[i]\n",
    "        try:\n",
    "            d[key] = entry[0]\n",
    "        except (TypeError, IndexError):\n",
    "            del data[i]\n",
    "    \n",
    "    return data\n",
    "\n",
    "games = take_first(games, \"genres\")\n",
    "games = take_first(games, \"involved_companies\")\n",
    "games = take_first(games, \"age_ratings\")\n",
    "\n",
    "\n",
    "df_games = pd.json_normalize(games)\n",
    "\n",
    "\n",
    "\n",
    "\n"
   ]
  },
  {
   "cell_type": "code",
   "execution_count": 180,
   "metadata": {},
   "outputs": [
    {
     "data": {
      "text/plain": [
       "Index(['id', 'first_release_date', 'name', 'summary', 'age_ratings.id',\n",
       "       'age_ratings.rating', 'cover.id', 'cover.url', 'genres.id',\n",
       "       'genres.name', 'involved_companies.id', 'involved_companies.company.id',\n",
       "       'involved_companies.company.logo.id',\n",
       "       'involved_companies.company.logo.url',\n",
       "       'involved_companies.company.name', 'genres', 'involved_companies'],\n",
       "      dtype='object')"
      ]
     },
     "execution_count": 180,
     "metadata": {},
     "output_type": "execute_result"
    }
   ],
   "source": [
    "df_games.head()\n",
    "df_games.columns"
   ]
  },
  {
   "cell_type": "code",
   "execution_count": 181,
   "metadata": {},
   "outputs": [],
   "source": [
    "df_games.rename(columns={\n",
    "    'involved_companies.company.logo.url': \"developer_logo_url\",\n",
    "    'involved_companies.company.name': \"developer\",\n",
    "    'genres.name': \"category\",\n",
    "    'age_ratings.rating': \"age_rating\",\n",
    "    'first_release_date': \"release_date\",\n",
    "    'cover.url': \"image_url\",\n",
    "    'summary': \"description\",\n",
    "\n",
    "}, inplace=True)\n",
    "df_games[\"short_description\"] = df_games[\"description\"].apply(lambda x: x.split(\".\")[0])\n",
    "df_games[\"long_description\"] = df_games[\"description\"]\n"
   ]
  },
  {
   "cell_type": "code",
   "execution_count": 183,
   "metadata": {},
   "outputs": [],
   "source": [
    "df_games = df_games[[\"name\", \"short_description\", \"long_description\", \"description\", \"age_rating\", \"image_url\", \"category\", \"release_date\", \"developer\", \"developer_logo_url\"]]\n"
   ]
  },
  {
   "cell_type": "code",
   "execution_count": 186,
   "metadata": {},
   "outputs": [],
   "source": [
    "df_games.to_csv(r\"games.csv\", index=False)"
   ]
  }
 ],
 "metadata": {
  "interpreter": {
   "hash": "515696eaed9f73b1fd217967c82a3d9eec8028a3be8c5e365df97b04e321bbb6"
  },
  "kernelspec": {
   "display_name": "Python 3.8.8 ('base')",
   "language": "python",
   "name": "python3"
  },
  "language_info": {
   "codemirror_mode": {
    "name": "ipython",
    "version": 3
   },
   "file_extension": ".py",
   "mimetype": "text/x-python",
   "name": "python",
   "nbconvert_exporter": "python",
   "pygments_lexer": "ipython3",
   "version": "3.8.8"
  },
  "orig_nbformat": 4
 },
 "nbformat": 4,
 "nbformat_minor": 2
}
